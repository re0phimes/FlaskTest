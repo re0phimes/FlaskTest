{
 "cells": [
  {
   "cell_type": "code",
   "execution_count": null,
   "metadata": {},
   "outputs": [
    {
     "name": "stdout",
     "output_type": "stream",
     "text": [
      "Index(['timeStamp', 'total', 'avai', 'percent', 'used', 'free'], dtype='object')\n",
      "              timeStamp       total       avai percent        used       free\n",
      "0   2019-04-28 11:23:30  4055.117MB  476.184MB   88.3%  3578.934MB  476.184MB\n",
      "1   2019-04-28 11:23:31  4055.117MB   477.57MB   88.2%  3577.547MB   477.57MB\n",
      "2   2019-04-28 11:23:32  4055.117MB  482.852MB   88.1%  3572.266MB  482.852MB\n",
      "3   2019-04-28 11:23:33  4055.117MB  482.863MB   88.1%  3572.254MB  482.863MB\n",
      "4   2019-04-28 11:23:34  4055.117MB  482.953MB   88.1%  3572.164MB  482.953MB\n",
      "5   2019-04-28 11:23:35  4055.117MB  478.961MB   88.2%  3576.156MB  478.961MB\n",
      "6   2019-04-28 11:23:36  4055.117MB   482.68MB   88.1%  3572.438MB   482.68MB\n",
      "7   2019-04-28 11:23:37  4055.117MB  482.711MB   88.1%  3572.406MB  482.711MB\n",
      "8   2019-04-28 11:23:38  4055.117MB  450.996MB   88.9%  3604.121MB  450.996MB\n",
      "9   2019-04-28 11:23:39  4055.117MB  479.746MB   88.2%  3575.371MB  479.746MB\n",
      "10  2019-04-28 11:23:40  4055.117MB  475.465MB   88.3%  3579.652MB  475.465MB\n",
      "11  2019-04-28 11:23:41  4055.117MB  481.199MB   88.1%  3573.918MB  481.199MB\n",
      "12  2019-04-28 11:23:42  4055.117MB  484.379MB   88.1%  3570.738MB  484.379MB\n",
      "13  2019-04-28 11:23:43  4055.117MB  480.582MB   88.1%  3574.535MB  480.582MB\n",
      "14  2019-04-28 11:23:44  4055.117MB  478.711MB   88.2%  3576.406MB  478.711MB\n",
      "15  2019-04-28 11:23:45  4055.117MB  456.363MB   88.7%  3598.754MB  456.363MB\n",
      "16  2019-04-28 11:23:46  4055.117MB  458.105MB   88.7%  3597.012MB  458.105MB\n",
      "17  2019-04-28 11:23:47  4055.117MB  458.332MB   88.7%  3596.785MB  458.332MB\n",
      "18  2019-04-28 11:23:48  4055.117MB  467.586MB   88.5%  3587.531MB  467.586MB\n",
      "19  2019-04-28 11:23:49  4055.117MB  476.168MB   88.3%  3578.949MB  476.168MB\n",
      " * Serving Flask app \"__main__\" (lazy loading)\n",
      " * Environment: production\n",
      "   WARNING: Do not use the development server in a production environment.\n",
      "   Use a production WSGI server instead.\n",
      " * Debug mode: off\n"
     ]
    },
    {
     "name": "stderr",
     "output_type": "stream",
     "text": [
      " * Running on http://127.0.0.1:5000/ (Press CTRL+C to quit)\n",
      "127.0.0.1 - - [29/Apr/2019 15:38:17] \"GET / HTTP/1.1\" 200 -\n"
     ]
    }
   ],
   "source": [
    "from flask import Flask, render_template\n",
    "from flask_bootstrap import Bootstrap\n",
    "import pandas as pd\n",
    "\n",
    "app = Flask(__name__)\n",
    "Bootstrap(app)\n",
    "\n",
    "@app.route('/')\n",
    "def index():\n",
    "    return render_template(\"index.html\",headers=headers,count=count,content=content)\n",
    "\n",
    "\n",
    "# for i in files.columns:\n",
    "#     print(i)\n",
    "# for i in range(files.count()[0]):\n",
    "#     for j in range(1,6):\n",
    "#         print(files.iloc[i][j])\n",
    "\n",
    "\n",
    "\n",
    "content = pd.read_csv(\"static/aaa.csv\", index_col=0)\n",
    "headers = files.columns[1:]\n",
    "print(headers)\n",
    "count = files.count()[0]\n",
    "print(content)\n",
    "\n",
    "\n",
    "\n",
    "if __name__ == \"__main__\":\n",
    "    app.run(\"0.0.0.0\",5000,debug=True)\n",
    "    \n",
    "    \n",
    "    \n",
    "    \n",
    "    \n",
    "    \n",
    "    \n",
    "    \n",
    "    \n",
    "    \n",
    "    \n",
    "    \n",
    "    \n",
    "    \n",
    "    \n",
    "    \n",
    "    \n",
    "    \n",
    "# {% for i in range(content.count()[0]) %}\n",
    "#                         <tr>\n",
    "#                             {% for j in range(1,6) %}\n",
    "#                                 <td>{{content[i][j]}}</td>\n",
    "#                             {% endfor %}\n",
    "#                         <tr>\n",
    "#                     {% endfor %}"
   ]
  },
  {
   "cell_type": "code",
   "execution_count": null,
   "metadata": {},
   "outputs": [],
   "source": []
  },
  {
   "cell_type": "code",
   "execution_count": null,
   "metadata": {},
   "outputs": [],
   "source": []
  }
 ],
 "metadata": {
  "kernelspec": {
   "display_name": "Python 3",
   "language": "python",
   "name": "python3"
  },
  "language_info": {
   "codemirror_mode": {
    "name": "ipython",
    "version": 3
   },
   "file_extension": ".py",
   "mimetype": "text/x-python",
   "name": "python",
   "nbconvert_exporter": "python",
   "pygments_lexer": "ipython3",
   "version": "3.7.1"
  }
 },
 "nbformat": 4,
 "nbformat_minor": 2
}
